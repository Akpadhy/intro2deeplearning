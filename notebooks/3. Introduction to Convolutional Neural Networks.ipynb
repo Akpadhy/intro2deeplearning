{
 "cells": [
  {
   "cell_type": "markdown",
   "metadata": {},
   "source": [
    "# Introduction to Convolutional Neural Networks\n",
    "\n",
    "**Goal** : This notebook explains how to implement a simple convolutional neural network model. "
   ]
  },
  {
   "cell_type": "markdown",
   "metadata": {},
   "source": [
    "## MLP with Keras"
   ]
  },
  {
   "cell_type": "code",
   "execution_count": 1,
   "metadata": {
    "collapsed": false
   },
   "outputs": [],
   "source": [
    "import numpy as np\n",
    "import pandas as pd\n",
    "import os\n",
    "from PIL import Image"
   ]
  },
  {
   "cell_type": "markdown",
   "metadata": {},
   "source": [
    "### Load Data"
   ]
  },
  {
   "cell_type": "code",
   "execution_count": 2,
   "metadata": {
    "collapsed": true
   },
   "outputs": [],
   "source": [
    "#Load the data\n",
    "\n",
    "labels = pd.read_csv(\"../data/BeeSpotter/train_labels.csv\")\n",
    "submissionFormat = pd.read_csv(\"../data/BeeSpotter/SubmissionFormat.csv\")"
   ]
  },
  {
   "cell_type": "code",
   "execution_count": 3,
   "metadata": {
    "collapsed": false
   },
   "outputs": [
    {
     "data": {
      "text/html": [
       "<div>\n",
       "<table border=\"1\" class=\"dataframe\">\n",
       "  <thead>\n",
       "    <tr style=\"text-align: right;\">\n",
       "      <th></th>\n",
       "      <th>id</th>\n",
       "      <th>genus</th>\n",
       "    </tr>\n",
       "  </thead>\n",
       "  <tbody>\n",
       "    <tr>\n",
       "      <th>0</th>\n",
       "      <td>520</td>\n",
       "      <td>1</td>\n",
       "    </tr>\n",
       "    <tr>\n",
       "      <th>1</th>\n",
       "      <td>3800</td>\n",
       "      <td>1</td>\n",
       "    </tr>\n",
       "    <tr>\n",
       "      <th>2</th>\n",
       "      <td>3289</td>\n",
       "      <td>1</td>\n",
       "    </tr>\n",
       "    <tr>\n",
       "      <th>3</th>\n",
       "      <td>2695</td>\n",
       "      <td>1</td>\n",
       "    </tr>\n",
       "    <tr>\n",
       "      <th>4</th>\n",
       "      <td>4922</td>\n",
       "      <td>1</td>\n",
       "    </tr>\n",
       "  </tbody>\n",
       "</table>\n",
       "</div>"
      ],
      "text/plain": [
       "     id  genus\n",
       "0   520      1\n",
       "1  3800      1\n",
       "2  3289      1\n",
       "3  2695      1\n",
       "4  4922      1"
      ]
     },
     "execution_count": 3,
     "metadata": {},
     "output_type": "execute_result"
    }
   ],
   "source": [
    "labels.head()"
   ]
  },
  {
   "cell_type": "code",
   "execution_count": 4,
   "metadata": {
    "collapsed": false
   },
   "outputs": [
    {
     "data": {
      "text/html": [
       "<div>\n",
       "<table border=\"1\" class=\"dataframe\">\n",
       "  <thead>\n",
       "    <tr style=\"text-align: right;\">\n",
       "      <th></th>\n",
       "      <th>id</th>\n",
       "      <th>genus</th>\n",
       "    </tr>\n",
       "  </thead>\n",
       "  <tbody>\n",
       "    <tr>\n",
       "      <th>0</th>\n",
       "      <td>2783</td>\n",
       "      <td>0.5</td>\n",
       "    </tr>\n",
       "    <tr>\n",
       "      <th>1</th>\n",
       "      <td>2175</td>\n",
       "      <td>0.5</td>\n",
       "    </tr>\n",
       "    <tr>\n",
       "      <th>2</th>\n",
       "      <td>4517</td>\n",
       "      <td>0.5</td>\n",
       "    </tr>\n",
       "    <tr>\n",
       "      <th>3</th>\n",
       "      <td>2831</td>\n",
       "      <td>0.5</td>\n",
       "    </tr>\n",
       "    <tr>\n",
       "      <th>4</th>\n",
       "      <td>3556</td>\n",
       "      <td>0.5</td>\n",
       "    </tr>\n",
       "  </tbody>\n",
       "</table>\n",
       "</div>"
      ],
      "text/plain": [
       "     id  genus\n",
       "0  2783    0.5\n",
       "1  2175    0.5\n",
       "2  4517    0.5\n",
       "3  2831    0.5\n",
       "4  3556    0.5"
      ]
     },
     "execution_count": 4,
     "metadata": {},
     "output_type": "execute_result"
    }
   ],
   "source": [
    "submissionFormat.head()"
   ]
  },
  {
   "cell_type": "code",
   "execution_count": 5,
   "metadata": {
    "collapsed": false
   },
   "outputs": [
    {
     "name": "stdout",
     "output_type": "stream",
     "text": [
      "(992, 2) (3969, 2)\n"
     ]
    }
   ],
   "source": [
    "print submissionFormat.shape, labels.shape"
   ]
  },
  {
   "cell_type": "markdown",
   "metadata": {},
   "source": [
    "##### Util to get an image. This will also help us resize the image after we read it"
   ]
  },
  {
   "cell_type": "code",
   "execution_count": 6,
   "metadata": {
    "collapsed": true
   },
   "outputs": [],
   "source": [
    "def get_image(filename, folder, size):\n",
    "    filepath = os.path.join(\"../data/BeeSpotter/images\", folder, filename + \".jpg\")\n",
    "    image = Image.open(filepath)\n",
    "    image.thumbnail((size, size), Image.ANTIALIAS)\n",
    "    return (np.array(image, dtype=np.int32)[:,:,:3]).swapaxes(0,2)"
   ]
  },
  {
   "cell_type": "markdown",
   "metadata": {},
   "source": [
    "##### Util to load all the images. This will call the `get_image` function defined above"
   ]
  },
  {
   "cell_type": "code",
   "execution_count": 7,
   "metadata": {
    "collapsed": true
   },
   "outputs": [],
   "source": [
    "def load_images(filenames, folder, size):\n",
    "    features = np.empty([len(filenames), 3, size, size])\n",
    "    for counter, file in enumerate(filenames):\n",
    "#        print file, counter\n",
    "        features[counter] = get_image(str(file), folder, size)\n",
    "    \n",
    "    return features"
   ]
  },
  {
   "cell_type": "markdown",
   "metadata": {},
   "source": [
    "##### Load the train and test datasets"
   ]
  },
  {
   "cell_type": "code",
   "execution_count": 8,
   "metadata": {
    "collapsed": true
   },
   "outputs": [],
   "source": [
    "train_X = load_images(labels.id, \"train\", 32)\n",
    "test_X = load_images(submissionFormat.id, \"test\", 32)"
   ]
  },
  {
   "cell_type": "code",
   "execution_count": 9,
   "metadata": {
    "collapsed": false
   },
   "outputs": [
    {
     "name": "stdout",
     "output_type": "stream",
     "text": [
      "(3969, 3, 32, 32) (992, 3, 32, 32)\n"
     ]
    }
   ],
   "source": [
    "print train_X.shape, test_X.shape"
   ]
  },
  {
   "cell_type": "markdown",
   "metadata": {},
   "source": [
    "##### Load `keras` package for CNN"
   ]
  },
  {
   "cell_type": "code",
   "execution_count": 10,
   "metadata": {
    "collapsed": false
   },
   "outputs": [
    {
     "name": "stderr",
     "output_type": "stream",
     "text": [
      "Using gpu device 0: GeForce GT 650M\n"
     ]
    }
   ],
   "source": [
    "from keras.models import Sequential\n",
    "from keras.layers.core import Dense, Dropout, Activation, Flatten\n",
    "from keras.layers.convolutional import Convolution2D, MaxPooling2D\n",
    "from keras.optimizers import SGD"
   ]
  },
  {
   "cell_type": "markdown",
   "metadata": {},
   "source": [
    "##### First Model: Just one convolution layer"
   ]
  },
  {
   "cell_type": "code",
   "execution_count": 11,
   "metadata": {
    "collapsed": true
   },
   "outputs": [],
   "source": [
    "model = Sequential()\n",
    "model.add(Convolution2D(32, 3, 3, 3, border_mode='full')) \n",
    "\n",
    "model.add(Flatten())\n",
    "\n",
    "model.add(Dense(32*34*34, 1))\n",
    "model.add(Activation('sigmoid'))"
   ]
  },
  {
   "cell_type": "code",
   "execution_count": 12,
   "metadata": {
    "collapsed": false
   },
   "outputs": [
    {
     "name": "stdout",
     "output_type": "stream",
     "text": [
      "Epoch 0\n",
      "3969/3969 [==============================] - 3s - loss: 0.0000     \n",
      "Epoch 1\n",
      "3969/3969 [==============================] - 2s - loss: 0.0000     \n",
      "Epoch 2\n",
      "3969/3969 [==============================] - 2s - loss: 0.0000     \n",
      "Epoch 3\n",
      "3969/3969 [==============================] - 2s - loss: 0.0000     \n",
      "Epoch 4\n",
      "3969/3969 [==============================] - 2s - loss: 0.0000     \n",
      "Epoch 5\n",
      "3969/3969 [==============================] - 2s - loss: -0.0000     \n",
      "Epoch 6\n",
      "3969/3969 [==============================] - 2s - loss: 0.0000     \n",
      "Epoch 7\n",
      "3969/3969 [==============================] - 2s - loss: -0.0000     \n",
      "Epoch 8\n",
      "3969/3969 [==============================] - 2s - loss: -0.0000     \n",
      "Epoch 9\n",
      "3969/3969 [==============================] - 3s - loss: -0.0000     \n"
     ]
    },
    {
     "data": {
      "text/plain": [
       "<keras.callbacks.History at 0x11b23c3d0>"
      ]
     },
     "execution_count": 12,
     "metadata": {},
     "output_type": "execute_result"
    }
   ],
   "source": [
    "sgd = SGD(lr=0.1, decay=1e-6, momentum=0.9, nesterov=True)\n",
    "model.compile(loss='categorical_crossentropy', optimizer=sgd)\n",
    "model.fit(train_X, np.array(labels.genus), batch_size=32, nb_epoch=10)"
   ]
  },
  {
   "cell_type": "markdown",
   "metadata": {},
   "source": [
    "##### Second Model: One convolution layer and one RELU activation"
   ]
  },
  {
   "cell_type": "code",
   "execution_count": 13,
   "metadata": {
    "collapsed": true
   },
   "outputs": [],
   "source": [
    "model = Sequential()\n",
    "model.add(Convolution2D(32, 3, 3, 3, border_mode='full')) \n",
    "\n",
    "model.add(Convolution2D(32, 32, 3, 3))\n",
    "model.add(Activation('relu'))\n",
    "\n",
    "model.add(Flatten())\n",
    "\n",
    "model.add(Dense(32*32*32, 1))\n",
    "model.add(Activation('sigmoid'))"
   ]
  },
  {
   "cell_type": "code",
   "execution_count": 14,
   "metadata": {
    "collapsed": false
   },
   "outputs": [
    {
     "name": "stdout",
     "output_type": "stream",
     "text": [
      "Epoch 0\n",
      "3969/3969 [==============================] - 5s - loss: -0.0000     \n",
      "Epoch 1\n",
      "3969/3969 [==============================] - 4s - loss: -0.0000     \n",
      "Epoch 2\n",
      "3969/3969 [==============================] - 4s - loss: -0.0000     \n",
      "Epoch 3\n",
      "3969/3969 [==============================] - 4s - loss: -0.0000     \n",
      "Epoch 4\n",
      "3969/3969 [==============================] - 4s - loss: -0.0000     \n",
      "Epoch 5\n",
      "3969/3969 [==============================] - 4s - loss: -0.0000     \n",
      "Epoch 6\n",
      "3969/3969 [==============================] - 4s - loss: -0.0000     \n",
      "Epoch 7\n",
      "3969/3969 [==============================] - 4s - loss: -0.0000     \n",
      "Epoch 8\n",
      "3969/3969 [==============================] - 4s - loss: -0.0000     \n",
      "Epoch 9\n",
      "3969/3969 [==============================] - 4s - loss: -0.0000     \n"
     ]
    },
    {
     "data": {
      "text/plain": [
       "<keras.callbacks.History at 0x11fe3e790>"
      ]
     },
     "execution_count": 14,
     "metadata": {},
     "output_type": "execute_result"
    }
   ],
   "source": [
    "sgd = SGD(lr=0.1, decay=1e-6, momentum=0.9, nesterov=True)\n",
    "model.compile(loss='categorical_crossentropy', optimizer=sgd)\n",
    "model.fit(train_X, np.array(labels.genus), batch_size=32, nb_epoch=10)"
   ]
  },
  {
   "cell_type": "markdown",
   "metadata": {
    "collapsed": true
   },
   "source": [
    "##### Third Model: One convolution layer, one RELU activation and one MaxPooling layer"
   ]
  },
  {
   "cell_type": "code",
   "execution_count": 16,
   "metadata": {
    "collapsed": false
   },
   "outputs": [
    {
     "name": "stdout",
     "output_type": "stream",
     "text": [
      "Epoch 0\n",
      "3969/3969 [==============================] - 5s - loss: -0.0000     \n",
      "Epoch 1\n",
      "3969/3969 [==============================] - 4s - loss: -0.0000     \n",
      "Epoch 2\n",
      "3969/3969 [==============================] - 4s - loss: -0.0000     \n",
      "Epoch 3\n",
      "3969/3969 [==============================] - 4s - loss: -0.0000     \n",
      "Epoch 4\n",
      "3969/3969 [==============================] - 4s - loss: -0.0000     \n",
      "Epoch 5\n",
      "3969/3969 [==============================] - 4s - loss: -0.0000     \n",
      "Epoch 6\n",
      "3969/3969 [==============================] - 4s - loss: -0.0000     \n",
      "Epoch 7\n",
      "3969/3969 [==============================] - 4s - loss: -0.0000     \n",
      "Epoch 8\n",
      "3969/3969 [==============================] - 4s - loss: -0.0000     \n",
      "Epoch 9\n",
      "3969/3969 [==============================] - 4s - loss: -0.0000     \n"
     ]
    },
    {
     "data": {
      "text/plain": [
       "<keras.callbacks.History at 0x1228bae90>"
      ]
     },
     "execution_count": 16,
     "metadata": {},
     "output_type": "execute_result"
    }
   ],
   "source": [
    "model = Sequential()\n",
    "model.add(Convolution2D(32, 3, 3, 3, border_mode='full')) \n",
    "\n",
    "model.add(Convolution2D(32, 32, 3, 3))\n",
    "model.add(Activation('relu'))\n",
    "model.add(MaxPooling2D(poolsize=(2, 2)))\n",
    "\n",
    "model.add(Flatten())\n",
    "\n",
    "model.add(Dense(32*16*16, 1))\n",
    "model.add(Activation('sigmoid'))\n",
    "\n",
    "sgd = SGD(lr=0.1, decay=1e-6, momentum=0.9, nesterov=True)\n",
    "model.compile(loss='categorical_crossentropy', optimizer=sgd)\n",
    "model.fit(train_X, np.array(labels.genus), batch_size=32, nb_epoch=10)"
   ]
  },
  {
   "cell_type": "markdown",
   "metadata": {
    "collapsed": true
   },
   "source": [
    "##### Fourth Model: One convolution layer, one RELU activation, one MaxPooling layer with dropout"
   ]
  },
  {
   "cell_type": "code",
   "execution_count": 18,
   "metadata": {
    "collapsed": false
   },
   "outputs": [
    {
     "name": "stdout",
     "output_type": "stream",
     "text": [
      "Epoch 0\n",
      "3969/3969 [==============================] - 5s - loss: -0.0000     \n",
      "Epoch 1\n",
      "3969/3969 [==============================] - 4s - loss: -0.0000     \n",
      "Epoch 2\n",
      "3969/3969 [==============================] - 4s - loss: -0.0000     \n",
      "Epoch 3\n",
      "3969/3969 [==============================] - 5s - loss: -0.0000     \n",
      "Epoch 4\n",
      "3969/3969 [==============================] - 4s - loss: -0.0000     \n",
      "Epoch 5\n",
      "3969/3969 [==============================] - 4s - loss: -0.0000     \n",
      "Epoch 6\n",
      "3969/3969 [==============================] - 4s - loss: -0.0000     \n",
      "Epoch 7\n",
      "3969/3969 [==============================] - 4s - loss: -0.0000     \n",
      "Epoch 8\n",
      "3969/3969 [==============================] - 5s - loss: -0.0000     \n",
      "Epoch 9\n",
      "3969/3969 [==============================] - 4s - loss: -0.0000     \n"
     ]
    },
    {
     "data": {
      "text/plain": [
       "<keras.callbacks.History at 0x125275a90>"
      ]
     },
     "execution_count": 18,
     "metadata": {},
     "output_type": "execute_result"
    }
   ],
   "source": [
    "model = Sequential()\n",
    "model.add(Convolution2D(32, 3, 3, 3, border_mode='full')) \n",
    "\n",
    "model.add(Convolution2D(32, 32, 3, 3))\n",
    "model.add(Activation('relu'))\n",
    "model.add(MaxPooling2D(poolsize=(2, 2)))\n",
    "model.add(Dropout(0.25))\n",
    "\n",
    "model.add(Flatten())\n",
    "\n",
    "model.add(Dense(32*16*16, 1))\n",
    "model.add(Activation('sigmoid'))\n",
    "\n",
    "sgd = SGD(lr=0.1, decay=1e-6, momentum=0.9, nesterov=True)\n",
    "model.compile(loss='categorical_crossentropy', optimizer=sgd)\n",
    "model.fit(train_X, np.array(labels.genus), batch_size=32, nb_epoch=10)"
   ]
  },
  {
   "cell_type": "markdown",
   "metadata": {},
   "source": [
    "##### A deep CNN"
   ]
  },
  {
   "cell_type": "code",
   "execution_count": 19,
   "metadata": {
    "collapsed": false
   },
   "outputs": [
    {
     "name": "stdout",
     "output_type": "stream",
     "text": [
      "Epoch 0\n",
      "3969/3969 [==============================] - 9s - loss: -0.0000     \n",
      "Epoch 1\n",
      "3969/3969 [==============================] - 9s - loss: -0.0000     \n",
      "Epoch 2\n",
      "3969/3969 [==============================] - 9s - loss: -0.0000     \n",
      "Epoch 3\n",
      "3969/3969 [==============================] - 9s - loss: -0.0000     \n",
      "Epoch 4\n",
      "3969/3969 [==============================] - 9s - loss: -0.0000     \n",
      "Epoch 5\n",
      "3969/3969 [==============================] - 9s - loss: -0.0000     \n",
      "Epoch 6\n",
      "3969/3969 [==============================] - 9s - loss: -0.0000     \n",
      "Epoch 7\n",
      "3969/3969 [==============================] - 9s - loss: -0.0000     \n",
      "Epoch 8\n",
      "3969/3969 [==============================] - 9s - loss: -0.0000     \n",
      "Epoch 9\n",
      "3969/3969 [==============================] - 9s - loss: -0.0000     \n"
     ]
    },
    {
     "data": {
      "text/plain": [
       "<keras.callbacks.History at 0x128766e50>"
      ]
     },
     "execution_count": 19,
     "metadata": {},
     "output_type": "execute_result"
    }
   ],
   "source": [
    "model = Sequential()\n",
    "model.add(Convolution2D(32, 3, 3, 3, border_mode='full')) \n",
    "model.add(Activation('relu'))\n",
    "model.add(Convolution2D(32, 32, 3, 3))\n",
    "model.add(Activation('relu'))\n",
    "model.add(MaxPooling2D(poolsize=(2, 2)))\n",
    "model.add(Dropout(0.25))\n",
    "\n",
    "model.add(Convolution2D(64, 32, 3, 3, border_mode='full')) \n",
    "model.add(Activation('relu'))\n",
    "model.add(Convolution2D(64, 64, 3, 3)) \n",
    "model.add(Activation('relu'))\n",
    "model.add(MaxPooling2D(poolsize=(2, 2)))\n",
    "model.add(Dropout(0.25))\n",
    "\n",
    "model.add(Flatten())\n",
    "model.add(Dense(64*8*8, 256))\n",
    "model.add(Activation('relu'))\n",
    "model.add(Dropout(0.5))\n",
    "\n",
    "model.add(Dense(256, 1))\n",
    "model.add(Activation('sigmoid'))\n",
    "\n",
    "sgd = SGD(lr=0.1, decay=1e-6, momentum=0.9, nesterov=True)\n",
    "model.compile(loss='categorical_crossentropy', optimizer=sgd)\n",
    "model.fit(train_X, np.array(labels.genus), batch_size=32, nb_epoch=10)"
   ]
  }
 ],
 "metadata": {
  "kernelspec": {
   "display_name": "Python 2",
   "language": "python",
   "name": "python2"
  },
  "language_info": {
   "codemirror_mode": {
    "name": "ipython",
    "version": 2
   },
   "file_extension": ".py",
   "mimetype": "text/x-python",
   "name": "python",
   "nbconvert_exporter": "python",
   "pygments_lexer": "ipython2",
   "version": "2.7.10"
  }
 },
 "nbformat": 4,
 "nbformat_minor": 0
}
